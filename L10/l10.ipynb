{
 "cells": [
  {
   "cell_type": "markdown",
   "id": "3740fbc6",
   "metadata": {},
   "source": [
    "# 1"
   ]
  },
  {
   "cell_type": "code",
   "execution_count": 1,
   "id": "687890a2",
   "metadata": {},
   "outputs": [],
   "source": [
    "import pandas as pd\n",
    "import matplotlib.pyplot as plt\n",
    "import seaborn as sns\n",
    "\n",
    "pd.set_option('display.max_colwidth', None)\n",
    "\n",
    "# df = pd.read_csv('./Chile.csv')\n",
    "df = pd.read_csv('./eda3', sep=' ')"
   ]
  },
  {
   "cell_type": "code",
   "execution_count": 2,
   "id": "c175a62f",
   "metadata": {},
   "outputs": [
    {
     "name": "stdout",
     "output_type": "stream",
     "text": [
      "(60, 6)\n"
     ]
    },
    {
     "data": {
      "text/html": [
       "<div>\n",
       "<style scoped>\n",
       "    .dataframe tbody tr th:only-of-type {\n",
       "        vertical-align: middle;\n",
       "    }\n",
       "\n",
       "    .dataframe tbody tr th {\n",
       "        vertical-align: top;\n",
       "    }\n",
       "\n",
       "    .dataframe thead th {\n",
       "        text-align: right;\n",
       "    }\n",
       "</style>\n",
       "<table border=\"1\" class=\"dataframe\">\n",
       "  <thead>\n",
       "    <tr style=\"text-align: right;\">\n",
       "      <th></th>\n",
       "      <th>ID</th>\n",
       "      <th>Age</th>\n",
       "      <th>AgeGroup</th>\n",
       "      <th>Strength</th>\n",
       "      <th>Sex</th>\n",
       "      <th>Party</th>\n",
       "    </tr>\n",
       "  </thead>\n",
       "  <tbody>\n",
       "    <tr>\n",
       "      <th>0</th>\n",
       "      <td>1</td>\n",
       "      <td>27</td>\n",
       "      <td>(21,42]</td>\n",
       "      <td>26</td>\n",
       "      <td>F</td>\n",
       "      <td>Rep</td>\n",
       "    </tr>\n",
       "    <tr>\n",
       "      <th>1</th>\n",
       "      <td>2</td>\n",
       "      <td>58</td>\n",
       "      <td>(42,62]</td>\n",
       "      <td>22</td>\n",
       "      <td>F</td>\n",
       "      <td>Rep</td>\n",
       "    </tr>\n",
       "    <tr>\n",
       "      <th>2</th>\n",
       "      <td>3</td>\n",
       "      <td>32</td>\n",
       "      <td>(21,42]</td>\n",
       "      <td>29</td>\n",
       "      <td>F</td>\n",
       "      <td>Dem</td>\n",
       "    </tr>\n",
       "    <tr>\n",
       "      <th>3</th>\n",
       "      <td>4</td>\n",
       "      <td>51</td>\n",
       "      <td>(42,62]</td>\n",
       "      <td>18</td>\n",
       "      <td>F</td>\n",
       "      <td>Dem</td>\n",
       "    </tr>\n",
       "    <tr>\n",
       "      <th>4</th>\n",
       "      <td>5</td>\n",
       "      <td>38</td>\n",
       "      <td>(21,42]</td>\n",
       "      <td>28</td>\n",
       "      <td>F</td>\n",
       "      <td>Rep</td>\n",
       "    </tr>\n",
       "  </tbody>\n",
       "</table>\n",
       "</div>"
      ],
      "text/plain": [
       "   ID  Age AgeGroup  Strength Sex Party\n",
       "0   1   27  (21,42]        26   F   Rep\n",
       "1   2   58  (42,62]        22   F   Rep\n",
       "2   3   32  (21,42]        29   F   Dem\n",
       "3   4   51  (42,62]        18   F   Dem\n",
       "4   5   38  (21,42]        28   F   Rep"
      ]
     },
     "execution_count": 2,
     "metadata": {},
     "output_type": "execute_result"
    }
   ],
   "source": [
    "print(df.shape)\n",
    "df.head()"
   ]
  },
  {
   "cell_type": "code",
   "execution_count": 3,
   "id": "5980f414",
   "metadata": {},
   "outputs": [
    {
     "name": "stdout",
     "output_type": "stream",
     "text": [
      "<class 'pandas.core.frame.DataFrame'>\n",
      "RangeIndex: 60 entries, 0 to 59\n",
      "Data columns (total 6 columns):\n",
      " #   Column    Non-Null Count  Dtype \n",
      "---  ------    --------------  ----- \n",
      " 0   ID        60 non-null     int64 \n",
      " 1   Age       60 non-null     int64 \n",
      " 2   AgeGroup  60 non-null     object\n",
      " 3   Strength  60 non-null     int64 \n",
      " 4   Sex       60 non-null     object\n",
      " 5   Party     60 non-null     object\n",
      "dtypes: int64(3), object(3)\n",
      "memory usage: 2.9+ KB\n"
     ]
    }
   ],
   "source": [
    "df.info()"
   ]
  },
  {
   "cell_type": "code",
   "execution_count": 4,
   "id": "8e2d6220",
   "metadata": {},
   "outputs": [
    {
     "data": {
      "text/html": [
       "<div>\n",
       "<style scoped>\n",
       "    .dataframe tbody tr th:only-of-type {\n",
       "        vertical-align: middle;\n",
       "    }\n",
       "\n",
       "    .dataframe tbody tr th {\n",
       "        vertical-align: top;\n",
       "    }\n",
       "\n",
       "    .dataframe thead th {\n",
       "        text-align: right;\n",
       "    }\n",
       "</style>\n",
       "<table border=\"1\" class=\"dataframe\">\n",
       "  <thead>\n",
       "    <tr style=\"text-align: right;\">\n",
       "      <th></th>\n",
       "      <th>ID</th>\n",
       "      <th>Age</th>\n",
       "      <th>Strength</th>\n",
       "    </tr>\n",
       "  </thead>\n",
       "  <tbody>\n",
       "    <tr>\n",
       "      <th>count</th>\n",
       "      <td>60.000000</td>\n",
       "      <td>60.000000</td>\n",
       "      <td>60.000000</td>\n",
       "    </tr>\n",
       "    <tr>\n",
       "      <th>mean</th>\n",
       "      <td>30.500000</td>\n",
       "      <td>53.000000</td>\n",
       "      <td>19.583333</td>\n",
       "    </tr>\n",
       "    <tr>\n",
       "      <th>std</th>\n",
       "      <td>17.464249</td>\n",
       "      <td>17.458911</td>\n",
       "      <td>5.636719</td>\n",
       "    </tr>\n",
       "    <tr>\n",
       "      <th>min</th>\n",
       "      <td>1.000000</td>\n",
       "      <td>22.000000</td>\n",
       "      <td>9.000000</td>\n",
       "    </tr>\n",
       "    <tr>\n",
       "      <th>25%</th>\n",
       "      <td>15.750000</td>\n",
       "      <td>37.500000</td>\n",
       "      <td>16.000000</td>\n",
       "    </tr>\n",
       "    <tr>\n",
       "      <th>50%</th>\n",
       "      <td>30.500000</td>\n",
       "      <td>55.500000</td>\n",
       "      <td>20.000000</td>\n",
       "    </tr>\n",
       "    <tr>\n",
       "      <th>75%</th>\n",
       "      <td>45.250000</td>\n",
       "      <td>66.000000</td>\n",
       "      <td>23.000000</td>\n",
       "    </tr>\n",
       "    <tr>\n",
       "      <th>max</th>\n",
       "      <td>60.000000</td>\n",
       "      <td>82.000000</td>\n",
       "      <td>35.000000</td>\n",
       "    </tr>\n",
       "  </tbody>\n",
       "</table>\n",
       "</div>"
      ],
      "text/plain": [
       "              ID        Age   Strength\n",
       "count  60.000000  60.000000  60.000000\n",
       "mean   30.500000  53.000000  19.583333\n",
       "std    17.464249  17.458911   5.636719\n",
       "min     1.000000  22.000000   9.000000\n",
       "25%    15.750000  37.500000  16.000000\n",
       "50%    30.500000  55.500000  20.000000\n",
       "75%    45.250000  66.000000  23.000000\n",
       "max    60.000000  82.000000  35.000000"
      ]
     },
     "execution_count": 4,
     "metadata": {},
     "output_type": "execute_result"
    }
   ],
   "source": [
    "df.describe()"
   ]
  },
  {
   "cell_type": "code",
   "execution_count": 5,
   "id": "204b8116",
   "metadata": {},
   "outputs": [
    {
     "name": "stdout",
     "output_type": "stream",
     "text": [
      "\n",
      "== ID ==\n"
     ]
    },
    {
     "data": {
      "text/plain": [
       "ID\n",
       "1     1\n",
       "2     1\n",
       "3     1\n",
       "4     1\n",
       "5     1\n",
       "6     1\n",
       "7     1\n",
       "8     1\n",
       "9     1\n",
       "10    1\n",
       "11    1\n",
       "12    1\n",
       "13    1\n",
       "14    1\n",
       "15    1\n",
       "16    1\n",
       "17    1\n",
       "18    1\n",
       "19    1\n",
       "20    1\n",
       "21    1\n",
       "22    1\n",
       "23    1\n",
       "24    1\n",
       "25    1\n",
       "26    1\n",
       "27    1\n",
       "28    1\n",
       "29    1\n",
       "30    1\n",
       "31    1\n",
       "32    1\n",
       "33    1\n",
       "34    1\n",
       "35    1\n",
       "36    1\n",
       "37    1\n",
       "38    1\n",
       "39    1\n",
       "40    1\n",
       "41    1\n",
       "42    1\n",
       "43    1\n",
       "44    1\n",
       "45    1\n",
       "46    1\n",
       "47    1\n",
       "48    1\n",
       "49    1\n",
       "50    1\n",
       "51    1\n",
       "52    1\n",
       "53    1\n",
       "54    1\n",
       "55    1\n",
       "56    1\n",
       "57    1\n",
       "58    1\n",
       "59    1\n",
       "60    1\n",
       "Name: count, dtype: int64"
      ]
     },
     "metadata": {},
     "output_type": "display_data"
    },
    {
     "name": "stdout",
     "output_type": "stream",
     "text": [
      "Total: 60\n",
      "\n",
      "== Age ==\n"
     ]
    },
    {
     "data": {
      "text/plain": [
       "Age\n",
       "66    4\n",
       "64    3\n",
       "38    3\n",
       "75    3\n",
       "33    3\n",
       "47    2\n",
       "32    2\n",
       "51    2\n",
       "69    2\n",
       "30    2\n",
       "55    2\n",
       "29    2\n",
       "78    2\n",
       "65    2\n",
       "67    2\n",
       "25    2\n",
       "81    2\n",
       "59    2\n",
       "27    1\n",
       "58    1\n",
       "48    1\n",
       "43    1\n",
       "50    1\n",
       "82    1\n",
       "63    1\n",
       "40    1\n",
       "36    1\n",
       "42    1\n",
       "74    1\n",
       "56    1\n",
       "61    1\n",
       "31    1\n",
       "60    1\n",
       "22    1\n",
       "72    1\n",
       "45    1\n",
       "Name: count, dtype: int64"
      ]
     },
     "metadata": {},
     "output_type": "display_data"
    },
    {
     "name": "stdout",
     "output_type": "stream",
     "text": [
      "Total: 60\n",
      "\n",
      "== AgeGroup ==\n"
     ]
    },
    {
     "data": {
      "text/plain": [
       "AgeGroup\n",
       "(62,82]    24\n",
       "(21,42]    20\n",
       "(42,62]    16\n",
       "Name: count, dtype: int64"
      ]
     },
     "metadata": {},
     "output_type": "display_data"
    },
    {
     "name": "stdout",
     "output_type": "stream",
     "text": [
      "Total: 60\n",
      "\n",
      "== Strength ==\n"
     ]
    },
    {
     "data": {
      "text/plain": [
       "Strength\n",
       "16    8\n",
       "18    7\n",
       "22    6\n",
       "20    5\n",
       "23    4\n",
       "24    3\n",
       "12    3\n",
       "11    2\n",
       "13    2\n",
       "28    2\n",
       "27    2\n",
       "26    2\n",
       "25    2\n",
       "21    2\n",
       "9     2\n",
       "10    1\n",
       "29    1\n",
       "17    1\n",
       "35    1\n",
       "30    1\n",
       "19    1\n",
       "15    1\n",
       "14    1\n",
       "Name: count, dtype: int64"
      ]
     },
     "metadata": {},
     "output_type": "display_data"
    },
    {
     "name": "stdout",
     "output_type": "stream",
     "text": [
      "Total: 60\n",
      "\n",
      "== Sex ==\n"
     ]
    },
    {
     "data": {
      "text/plain": [
       "Sex\n",
       "F    36\n",
       "M    24\n",
       "Name: count, dtype: int64"
      ]
     },
     "metadata": {},
     "output_type": "display_data"
    },
    {
     "name": "stdout",
     "output_type": "stream",
     "text": [
      "Total: 60\n",
      "\n",
      "== Party ==\n"
     ]
    },
    {
     "data": {
      "text/plain": [
       "Party\n",
       "Rep    34\n",
       "Dem    26\n",
       "Name: count, dtype: int64"
      ]
     },
     "metadata": {},
     "output_type": "display_data"
    },
    {
     "name": "stdout",
     "output_type": "stream",
     "text": [
      "Total: 60\n"
     ]
    }
   ],
   "source": [
    "for c in df.columns:\n",
    "    print(f\"\\n== {c} ==\")\n",
    "    display(df[c].value_counts())\n",
    "    print('Total:', df[c].count())"
   ]
  },
  {
   "cell_type": "code",
   "execution_count": 6,
   "id": "5c7ec2c3",
   "metadata": {},
   "outputs": [],
   "source": [
    "df = df.dropna()"
   ]
  },
  {
   "cell_type": "code",
   "execution_count": 7,
   "id": "d45280c8",
   "metadata": {},
   "outputs": [
    {
     "data": {
      "text/html": [
       "<div>\n",
       "<style scoped>\n",
       "    .dataframe tbody tr th:only-of-type {\n",
       "        vertical-align: middle;\n",
       "    }\n",
       "\n",
       "    .dataframe tbody tr th {\n",
       "        vertical-align: top;\n",
       "    }\n",
       "\n",
       "    .dataframe thead th {\n",
       "        text-align: right;\n",
       "    }\n",
       "</style>\n",
       "<table border=\"1\" class=\"dataframe\">\n",
       "  <thead>\n",
       "    <tr style=\"text-align: right;\">\n",
       "      <th></th>\n",
       "      <th>ID</th>\n",
       "      <th>Age</th>\n",
       "      <th>Strength</th>\n",
       "    </tr>\n",
       "    <tr>\n",
       "      <th>AgeGroup</th>\n",
       "      <th></th>\n",
       "      <th></th>\n",
       "      <th></th>\n",
       "    </tr>\n",
       "  </thead>\n",
       "  <tbody>\n",
       "    <tr>\n",
       "      <th>(21,42]</th>\n",
       "      <td>27.850000</td>\n",
       "      <td>32.1500</td>\n",
       "      <td>25.4000</td>\n",
       "    </tr>\n",
       "    <tr>\n",
       "      <th>(42,62]</th>\n",
       "      <td>28.625000</td>\n",
       "      <td>52.8125</td>\n",
       "      <td>19.5625</td>\n",
       "    </tr>\n",
       "    <tr>\n",
       "      <th>(62,82]</th>\n",
       "      <td>33.958333</td>\n",
       "      <td>70.5000</td>\n",
       "      <td>14.7500</td>\n",
       "    </tr>\n",
       "  </tbody>\n",
       "</table>\n",
       "</div>"
      ],
      "text/plain": [
       "                 ID      Age  Strength\n",
       "AgeGroup                              \n",
       "(21,42]   27.850000  32.1500   25.4000\n",
       "(42,62]   28.625000  52.8125   19.5625\n",
       "(62,82]   33.958333  70.5000   14.7500"
      ]
     },
     "metadata": {},
     "output_type": "display_data"
    },
    {
     "data": {
      "text/html": [
       "<div>\n",
       "<style scoped>\n",
       "    .dataframe tbody tr th:only-of-type {\n",
       "        vertical-align: middle;\n",
       "    }\n",
       "\n",
       "    .dataframe tbody tr th {\n",
       "        vertical-align: top;\n",
       "    }\n",
       "\n",
       "    .dataframe thead th {\n",
       "        text-align: right;\n",
       "    }\n",
       "</style>\n",
       "<table border=\"1\" class=\"dataframe\">\n",
       "  <thead>\n",
       "    <tr style=\"text-align: right;\">\n",
       "      <th></th>\n",
       "      <th>ID</th>\n",
       "      <th>Age</th>\n",
       "      <th>Strength</th>\n",
       "    </tr>\n",
       "    <tr>\n",
       "      <th>Sex</th>\n",
       "      <th></th>\n",
       "      <th></th>\n",
       "      <th></th>\n",
       "    </tr>\n",
       "  </thead>\n",
       "  <tbody>\n",
       "    <tr>\n",
       "      <th>F</th>\n",
       "      <td>25.00</td>\n",
       "      <td>50.861111</td>\n",
       "      <td>20.194444</td>\n",
       "    </tr>\n",
       "    <tr>\n",
       "      <th>M</th>\n",
       "      <td>38.75</td>\n",
       "      <td>56.208333</td>\n",
       "      <td>18.666667</td>\n",
       "    </tr>\n",
       "  </tbody>\n",
       "</table>\n",
       "</div>"
      ],
      "text/plain": [
       "        ID        Age   Strength\n",
       "Sex                             \n",
       "F    25.00  50.861111  20.194444\n",
       "M    38.75  56.208333  18.666667"
      ]
     },
     "metadata": {},
     "output_type": "display_data"
    },
    {
     "data": {
      "text/html": [
       "<div>\n",
       "<style scoped>\n",
       "    .dataframe tbody tr th:only-of-type {\n",
       "        vertical-align: middle;\n",
       "    }\n",
       "\n",
       "    .dataframe tbody tr th {\n",
       "        vertical-align: top;\n",
       "    }\n",
       "\n",
       "    .dataframe thead th {\n",
       "        text-align: right;\n",
       "    }\n",
       "</style>\n",
       "<table border=\"1\" class=\"dataframe\">\n",
       "  <thead>\n",
       "    <tr style=\"text-align: right;\">\n",
       "      <th></th>\n",
       "      <th>ID</th>\n",
       "      <th>Age</th>\n",
       "      <th>Strength</th>\n",
       "    </tr>\n",
       "    <tr>\n",
       "      <th>Party</th>\n",
       "      <th></th>\n",
       "      <th></th>\n",
       "      <th></th>\n",
       "    </tr>\n",
       "  </thead>\n",
       "  <tbody>\n",
       "    <tr>\n",
       "      <th>Dem</th>\n",
       "      <td>34.115385</td>\n",
       "      <td>54.692308</td>\n",
       "      <td>18.307692</td>\n",
       "    </tr>\n",
       "    <tr>\n",
       "      <th>Rep</th>\n",
       "      <td>27.735294</td>\n",
       "      <td>51.705882</td>\n",
       "      <td>20.558824</td>\n",
       "    </tr>\n",
       "  </tbody>\n",
       "</table>\n",
       "</div>"
      ],
      "text/plain": [
       "              ID        Age   Strength\n",
       "Party                                 \n",
       "Dem    34.115385  54.692308  18.307692\n",
       "Rep    27.735294  51.705882  20.558824"
      ]
     },
     "metadata": {},
     "output_type": "display_data"
    }
   ],
   "source": [
    "for c in df.columns:\n",
    "    if df[c].dtype not in ['int64', 'float64']:\n",
    "        display(df.groupby(c).mean(numeric_only=True))"
   ]
  },
  {
   "cell_type": "code",
   "execution_count": 8,
   "id": "84dcd1af",
   "metadata": {},
   "outputs": [
    {
     "data": {
      "text/html": [
       "<div>\n",
       "<style scoped>\n",
       "    .dataframe tbody tr th:only-of-type {\n",
       "        vertical-align: middle;\n",
       "    }\n",
       "\n",
       "    .dataframe tbody tr th {\n",
       "        vertical-align: top;\n",
       "    }\n",
       "\n",
       "    .dataframe thead th {\n",
       "        text-align: right;\n",
       "    }\n",
       "</style>\n",
       "<table border=\"1\" class=\"dataframe\">\n",
       "  <thead>\n",
       "    <tr style=\"text-align: right;\">\n",
       "      <th></th>\n",
       "      <th></th>\n",
       "      <th>ID</th>\n",
       "      <th>Age</th>\n",
       "      <th>Strength</th>\n",
       "    </tr>\n",
       "    <tr>\n",
       "      <th>AgeGroup</th>\n",
       "      <th>Party</th>\n",
       "      <th></th>\n",
       "      <th></th>\n",
       "      <th></th>\n",
       "    </tr>\n",
       "  </thead>\n",
       "  <tbody>\n",
       "    <tr>\n",
       "      <th rowspan=\"2\" valign=\"top\">(21,42]</th>\n",
       "      <th>Dem</th>\n",
       "      <td>32.625000</td>\n",
       "      <td>30.250000</td>\n",
       "      <td>24.625000</td>\n",
       "    </tr>\n",
       "    <tr>\n",
       "      <th>Rep</th>\n",
       "      <td>24.666667</td>\n",
       "      <td>33.416667</td>\n",
       "      <td>25.916667</td>\n",
       "    </tr>\n",
       "    <tr>\n",
       "      <th rowspan=\"2\" valign=\"top\">(42,62]</th>\n",
       "      <th>Dem</th>\n",
       "      <td>25.000000</td>\n",
       "      <td>51.400000</td>\n",
       "      <td>19.200000</td>\n",
       "    </tr>\n",
       "    <tr>\n",
       "      <th>Rep</th>\n",
       "      <td>30.272727</td>\n",
       "      <td>53.454545</td>\n",
       "      <td>19.727273</td>\n",
       "    </tr>\n",
       "    <tr>\n",
       "      <th rowspan=\"2\" valign=\"top\">(62,82]</th>\n",
       "      <th>Dem</th>\n",
       "      <td>38.538462</td>\n",
       "      <td>71.000000</td>\n",
       "      <td>14.076923</td>\n",
       "    </tr>\n",
       "    <tr>\n",
       "      <th>Rep</th>\n",
       "      <td>28.545455</td>\n",
       "      <td>69.909091</td>\n",
       "      <td>15.545455</td>\n",
       "    </tr>\n",
       "  </tbody>\n",
       "</table>\n",
       "</div>"
      ],
      "text/plain": [
       "                       ID        Age   Strength\n",
       "AgeGroup Party                                 \n",
       "(21,42]  Dem    32.625000  30.250000  24.625000\n",
       "         Rep    24.666667  33.416667  25.916667\n",
       "(42,62]  Dem    25.000000  51.400000  19.200000\n",
       "         Rep    30.272727  53.454545  19.727273\n",
       "(62,82]  Dem    38.538462  71.000000  14.076923\n",
       "         Rep    28.545455  69.909091  15.545455"
      ]
     },
     "metadata": {},
     "output_type": "display_data"
    }
   ],
   "source": [
    "display(df.groupby(['AgeGroup', 'Party']).mean(numeric_only=True))"
   ]
  },
  {
   "cell_type": "markdown",
   "id": "c6b033d6",
   "metadata": {},
   "source": [
    "# 2"
   ]
  },
  {
   "cell_type": "code",
   "execution_count": 14,
   "id": "41b6bab2",
   "metadata": {},
   "outputs": [
    {
     "name": "stdout",
     "output_type": "stream",
     "text": [
      "== ID ==\n",
      "mean of ID 30.5\n",
      "median of ID 30.5\n",
      "mode of ID 0      1\n",
      "1      2\n",
      "2      3\n",
      "3      4\n",
      "4      5\n",
      "5      6\n",
      "6      7\n",
      "7      8\n",
      "8      9\n",
      "9     10\n",
      "10    11\n",
      "11    12\n",
      "12    13\n",
      "13    14\n",
      "14    15\n",
      "15    16\n",
      "16    17\n",
      "17    18\n",
      "18    19\n",
      "19    20\n",
      "20    21\n",
      "21    22\n",
      "22    23\n",
      "23    24\n",
      "24    25\n",
      "25    26\n",
      "26    27\n",
      "27    28\n",
      "28    29\n",
      "29    30\n",
      "30    31\n",
      "31    32\n",
      "32    33\n",
      "33    34\n",
      "34    35\n",
      "35    36\n",
      "36    37\n",
      "37    38\n",
      "38    39\n",
      "39    40\n",
      "40    41\n",
      "41    42\n",
      "42    43\n",
      "43    44\n",
      "44    45\n",
      "45    46\n",
      "46    47\n",
      "47    48\n",
      "48    49\n",
      "49    50\n",
      "50    51\n",
      "51    52\n",
      "52    53\n",
      "53    54\n",
      "54    55\n",
      "55    56\n",
      "56    57\n",
      "57    58\n",
      "58    59\n",
      "59    60\n",
      "Name: ID, dtype: int64\n",
      "var of ID 305.0\n",
      "std of ID 17.46424919657298\n",
      "range of ID 59\n",
      "skew of ID 0.0\n",
      "kurt of ID -1.2\n"
     ]
    },
    {
     "data": {
      "image/png": "[encoded data removed]",
      "text/plain": [
       "<Figure size 640x480 with 1 Axes>"
      ]
     },
     "metadata": {},
     "output_type": "display_data"
    },
    {
     "name": "stdout",
     "output_type": "stream",
     "text": [
      "== Age ==\n",
      "mean of Age 53.0\n",
      "median of Age 55.5\n",
      "mode of Age 0    66\n",
      "Name: Age, dtype: int64\n",
      "var of Age 304.8135593220339\n",
      "std of Age 17.45891059952006\n",
      "range of Age 60\n",
      "skew of Age -0.12230696464964144\n",
      "kurt of Age -1.25938833005287\n"
     ]
    },
    {
     "data": {
      "image/png": "[encoded data removed]",
      "text/plain": [
       "<Figure size 640x480 with 1 Axes>"
      ]
     },
     "metadata": {},
     "output_type": "display_data"
    },
    {
     "name": "stdout",
     "output_type": "stream",
     "text": [
      "== AgeGroup ==\n"
     ]
    },
    {
     "data": {
      "image/png": "[encoded data removed]",
      "text/plain": [
       "<Figure size 640x480 with 1 Axes>"
      ]
     },
     "metadata": {},
     "output_type": "display_data"
    },
    {
     "name": "stdout",
     "output_type": "stream",
     "text": [
      "== Strength ==\n",
      "mean of Strength 19.583333333333332\n",
      "median of Strength 20.0\n",
      "mode of Strength 0    16\n",
      "Name: Strength, dtype: int64\n",
      "var of Strength 31.772598870056495\n",
      "std of Strength 5.63671880352892\n",
      "range of Strength 26\n",
      "skew of Strength 0.1874404244261077\n",
      "kurt of Strength -0.1828437539673331\n"
     ]
    },
    {
     "data": {
      "image/png": "[encoded data removed]",
      "text/plain": [
       "<Figure size 640x480 with 1 Axes>"
      ]
     },
     "metadata": {},
     "output_type": "display_data"
    },
    {
     "name": "stdout",
     "output_type": "stream",
     "text": [
      "== Sex ==\n"
     ]
    },
    {
     "data": {
      "image/png": "[encoded data removed]",
      "text/plain": [
       "<Figure size 640x480 with 1 Axes>"
      ]
     },
     "metadata": {},
     "output_type": "display_data"
    },
    {
     "name": "stdout",
     "output_type": "stream",
     "text": [
      "== Party ==\n"
     ]
    },
    {
     "data": {
      "image/png": "[encoded data removed]",
      "text/plain": [
       "<Figure size 640x480 with 1 Axes>"
      ]
     },
     "metadata": {},
     "output_type": "display_data"
    }
   ],
   "source": [
    "import matplotlib.pyplot as plt\n",
    "\n",
    "for c in df.columns:\n",
    "    print(f'== {c} ==')\n",
    "    plt.hist(df[c].dropna())\n",
    "    if df[c].dtype in ['int64', 'float64']:\n",
    "        print(f\"mean of {c}\", df[c].mean())\n",
    "        print(f\"median of {c}\", df[c].median())\n",
    "        print(f\"mode of {c}\", df[c].mode())\n",
    "        print(f\"var of {c}\", df[c].var())\n",
    "        print(f\"std of {c}\", df[c].std())\n",
    "        print(f\"range of {c}\", df[c].max() - df[c].min())\n",
    "        print(f\"skew of {c}\", df[c].skew())\n",
    "        print(f\"kurt of {c}\", df[c].kurt())\n",
    "    plt.show()"
   ]
  },
  {
   "cell_type": "code",
   "execution_count": 10,
   "id": "91bb4d86",
   "metadata": {},
   "outputs": [
    {
     "data": {
      "image/png": "[encoded data removed]",
      "text/plain": [
       "<Figure size 640x480 with 1 Axes>"
      ]
     },
     "metadata": {},
     "output_type": "display_data"
    },
    {
     "data": {
      "image/png": "[encoded data removed]",
      "text/plain": [
       "<Figure size 640x480 with 1 Axes>"
      ]
     },
     "metadata": {},
     "output_type": "display_data"
    },
    {
     "data": {
      "image/png": "[encoded data removed]",
      "text/plain": [
       "<Figure size 640x480 with 1 Axes>"
      ]
     },
     "metadata": {},
     "output_type": "display_data"
    },
    {
     "data": {
      "image/png": "[encoded data removed]",
      "text/plain": [
       "<Figure size 640x480 with 1 Axes>"
      ]
     },
     "metadata": {},
     "output_type": "display_data"
    },
    {
     "data": {
      "image/png": "[encoded data removed]",
      "text/plain": [
       "<Figure size 640x480 with 1 Axes>"
      ]
     },
     "metadata": {},
     "output_type": "display_data"
    },
    {
     "data": {
      "image/png": "[encoded data removed]",
      "text/plain": [
       "<Figure size 640x480 with 1 Axes>"
      ]
     },
     "metadata": {},
     "output_type": "display_data"
    },
    {
     "data": {
      "image/png": "[encoded data removed]",
      "text/plain": [
       "<Figure size 640x480 with 1 Axes>"
      ]
     },
     "metadata": {},
     "output_type": "display_data"
    },
    {
     "data": {
      "image/png": "[encoded data removed]",
      "text/plain": [
       "<Figure size 640x480 with 1 Axes>"
      ]
     },
     "metadata": {},
     "output_type": "display_data"
    },
    {
     "data": {
      "image/png": "[encoded data removed]",
      "text/plain": [
       "<Figure size 640x480 with 1 Axes>"
      ]
     },
     "metadata": {},
     "output_type": "display_data"
    }
   ],
   "source": [
    "for num in df.columns:\n",
    "    if df[num].dtype in ['int64', 'float64']:\n",
    "        for cat in df.columns:\n",
    "            if df[cat].dtype not in ['int64', 'float64']:\n",
    "                y = list(df.groupby(cat)[num])\n",
    "                plt.boxplot(list(map(lambda x: x[1], y)), tick_labels=list(map(lambda x: x[0], y)))\n",
    "                plt.xlabel(cat)\n",
    "                plt.ylabel(num)\n",
    "                plt.show()"
   ]
  },
  {
   "cell_type": "markdown",
   "id": "5869ef01",
   "metadata": {},
   "source": [
    "# 3"
   ]
  },
  {
   "cell_type": "code",
   "execution_count": 11,
   "id": "8a288313",
   "metadata": {},
   "outputs": [
    {
     "name": "stdout",
     "output_type": "stream",
     "text": [
      "          Strength       Age\n",
      "Strength  1.000000 -0.867858\n",
      "Age      -0.867858  1.000000\n"
     ]
    },
    {
     "data": {
      "text/plain": [
       "<Axes: >"
      ]
     },
     "execution_count": 11,
     "metadata": {},
     "output_type": "execute_result"
    },
    {
     "data": {
      "image/png": "[encoded data removed]",
      "text/plain": [
       "<Figure size 640x480 with 2 Axes>"
      ]
     },
     "metadata": {},
     "output_type": "display_data"
    }
   ],
   "source": [
    "var1 = 'Strength'\n",
    "var2 = 'Age'\n",
    "print(df[[var1, var2]].corr())\n",
    "sns.heatmap(df[[var1, var2]].corr())"
   ]
  },
  {
   "cell_type": "code",
   "execution_count": 12,
   "id": "3943cc16",
   "metadata": {},
   "outputs": [
    {
     "data": {
      "text/plain": [
       "PearsonRResult(statistic=np.float64(-0.8678583287144029), pvalue=np.float64(2.862146420494477e-19))"
      ]
     },
     "execution_count": 12,
     "metadata": {},
     "output_type": "execute_result"
    }
   ],
   "source": [
    "from scipy.stats import pearsonr\n",
    "\n",
    "pearsonr(df[var1], df[var2])"
   ]
  },
  {
   "cell_type": "code",
   "execution_count": 13,
   "id": "4dfa8130",
   "metadata": {},
   "outputs": [
    {
     "name": "stderr",
     "output_type": "stream",
     "text": [
      "/tmp/ipykernel_99413/3029717457.py:4: UserWarning: No artists with labels found to put in legend.  Note that artists whose label start with an underscore are ignored when legend() is called with no argument.\n",
      "  plt.legend()\n"
     ]
    },
    {
     "data": {
      "text/plain": [
       "<matplotlib.legend.Legend at 0x72304104e090>"
      ]
     },
     "execution_count": 13,
     "metadata": {},
     "output_type": "execute_result"
    },
    {
     "data": {
      "image/png": "[encoded data removed]",
      "text/plain": [
       "<Figure size 640x480 with 1 Axes>"
      ]
     },
     "metadata": {},
     "output_type": "display_data"
    }
   ],
   "source": [
    "plt.scatter(df[var1], df[var2])\n",
    "plt.xlabel(var1)\n",
    "plt.ylabel(var2)\n",
    "plt.legend()"
   ]
  }
 ],
 "metadata": {
  "kernelspec": {
   "display_name": ".venv",
   "language": "python",
   "name": "python3"
  },
  "language_info": {
   "codemirror_mode": {
    "name": "ipython",
    "version": 3
   },
   "file_extension": ".py",
   "mimetype": "text/x-python",
   "name": "python",
   "nbconvert_exporter": "python",
   "pygments_lexer": "ipython3",
   "version": "3.12.3"
  }
 },
 "nbformat": 4,
 "nbformat_minor": 5
}
