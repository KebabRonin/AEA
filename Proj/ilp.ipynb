{
 "cells": [
  {
   "cell_type": "code",
   "execution_count": 1,
   "id": "5b71a93d",
   "metadata": {},
   "outputs": [
    {
     "name": "stdout",
     "output_type": "stream",
     "text": [
      "Looking in indexes: https://pypi.org/simple, https://pypi.ngc.nvidia.com\n",
      "Requirement already satisfied: cplex in c:\\users\\kebabwarrior\\appdata\\local\\programs\\python\\python311\\lib\\site-packages (22.1.2.0)\n",
      "Note: you may need to restart the kernel to use updated packages.\n"
     ]
    },
    {
     "name": "stderr",
     "output_type": "stream",
     "text": [
      "WARNING: Ignoring invalid distribution ~orch (c:\\Users\\KebabWarrior\\AppData\\Local\\Programs\\Python\\Python311\\Lib\\site-packages)\n",
      "WARNING: Ignoring invalid distribution ~orch (c:\\Users\\KebabWarrior\\AppData\\Local\\Programs\\Python\\Python311\\Lib\\site-packages)\n",
      "WARNING: Ignoring invalid distribution ~orch (c:\\Users\\KebabWarrior\\AppData\\Local\\Programs\\Python\\Python311\\Lib\\site-packages)\n"
     ]
    },
    {
     "name": "stdout",
     "output_type": "stream",
     "text": [
      "Looking in indexes: https://pypi.org/simple, https://pypi.ngc.nvidia.com\n",
      "Requirement already satisfied: docplex in c:\\users\\kebabwarrior\\appdata\\local\\programs\\python\\python311\\lib\\site-packages (2.29.241)\n",
      "Requirement already satisfied: six in c:\\users\\kebabwarrior\\appdata\\local\\programs\\python\\python311\\lib\\site-packages (from docplex) (1.16.0)\n",
      "Note: you may need to restart the kernel to use updated packages.\n"
     ]
    },
    {
     "name": "stderr",
     "output_type": "stream",
     "text": [
      "WARNING: Ignoring invalid distribution ~orch (c:\\Users\\KebabWarrior\\AppData\\Local\\Programs\\Python\\Python311\\Lib\\site-packages)\n",
      "WARNING: Ignoring invalid distribution ~orch (c:\\Users\\KebabWarrior\\AppData\\Local\\Programs\\Python\\Python311\\Lib\\site-packages)\n",
      "WARNING: Ignoring invalid distribution ~orch (c:\\Users\\KebabWarrior\\AppData\\Local\\Programs\\Python\\Python311\\Lib\\site-packages)\n"
     ]
    }
   ],
   "source": [
    "%pip install cplex\n",
    "%pip install docplex"
   ]
  },
  {
   "cell_type": "code",
   "execution_count": 16,
   "id": "87b18335",
   "metadata": {},
   "outputs": [
    {
     "name": "stdout",
     "output_type": "stream",
     "text": [
      "Graph has 311 nodes and 309 edges\n",
      "[docplex.mp.params.IntParameter(parameters.advance,1), docplex.mp.params.IntParameter(parameters.clocktype,2), docplex.mp.params.NumParameter(parameters.dettimelimit,1e+75), docplex.mp.params.IntParameter(parameters.lpmethod,0), docplex.mp.params.IntParameter(parameters.optimalitytarget,0), docplex.mp.params.IntParameter(parameters.parallel,0), docplex.mp.params.BoolParameter(parameters.paramdisplay,1), docplex.mp.params.IntParameter(parameters.qpmethod,0), docplex.mp.params.IntParameter(parameters.randomseed,202009243), docplex.mp.params.BoolParameter(parameters.record,0), docplex.mp.params.IntParameter(parameters.solutiontype,0), docplex.mp.params.IntParameter(parameters.threads,0), docplex.mp.params.NumParameter(parameters.timelimit,1e+75), docplex.mp.params.StrParameter(parameters.workdir,.), docplex.mp.params.NumParameter(parameters.workmem,2048.0)]\n",
      "mipgap:number(0.0001)\n",
      "Model: docplex_model15\n",
      " - number of variables: 311\n",
      "   - binary=311, integer=0, continuous=0\n",
      " - number of constraints: 309\n",
      "   - linear=309\n",
      " - parameters: defaults\n",
      " - objective: minimize\n",
      " - problem type is: MILP\n",
      "status  = integer optimal solution\n",
      "time    = 0.609 s.\n",
      "problem = MILP\n",
      "gap     = 0%\n",
      "\n",
      "Solution size: 84.0\n"
     ]
    }
   ],
   "source": [
    "from typing import Tuple, List\n",
    "import logging\n",
    "\n",
    "def read_hgr(file_path: str) -> Tuple[int, int, List[List[int]]]:\n",
    "    \"\"\"\n",
    "    Read a DIMACS-like .hgr file and return the number of nodes, edges, and the edge list.\n",
    "\n",
    "    Args:\n",
    "        file_path: Path to the .hgr file\n",
    "\n",
    "    Returns:\n",
    "        Tuple containing:\n",
    "        - number of nodes\n",
    "        - number of edges\n",
    "        - list of edges, where each edge is a list of vertex indices (1-based)\n",
    "\n",
    "    Example format:\n",
    "        c I am a comment\n",
    "        p hs 6 5\n",
    "        1 2\n",
    "        2 3 4\n",
    "        2 4 5\n",
    "        1 3 6\n",
    "        5 6\n",
    "    \"\"\"\n",
    "    num_nodes = 0\n",
    "    num_edges = 0\n",
    "    edges = []\n",
    "\n",
    "    with open(file_path, 'r') as f:\n",
    "        for line in f:\n",
    "            line = line.strip()\n",
    "\n",
    "            # Skip comments and empty lines\n",
    "            if not line or line.startswith('c'):\n",
    "                continue\n",
    "\n",
    "            # Parse problem line\n",
    "            if line.startswith('p'):\n",
    "                parts = line.split()\n",
    "                if len(parts) != 4 or parts[1] != 'hs':\n",
    "                    raise ValueError(f\"Invalid problem line format: {line}\")\n",
    "                num_nodes = int(parts[2])\n",
    "                num_edges = int(parts[3])\n",
    "                continue\n",
    "\n",
    "            # Parse edge line\n",
    "            vertices = [int(v) for v in line.split()]\n",
    "            if not vertices:\n",
    "                continue\n",
    "\n",
    "            # Validate vertex numbers\n",
    "            if any(v < 1 or v > num_nodes for v in vertices):\n",
    "                raise ValueError(f\"Vertex number out of range in line: {line}\")\n",
    "\n",
    "            edges.append(vertices)\n",
    "\n",
    "    if not num_nodes or not num_edges:\n",
    "        raise ValueError(\"Problem line not found or invalid\")\n",
    "\n",
    "    if len(edges) != num_edges:\n",
    "        logging.warning(f\"Expected {num_edges} edges but found {len(edges)}\")\n",
    "\n",
    "    return num_nodes, num_edges, edges\n",
    "\n",
    "\n",
    "import docplex.mp.model as cplex\n",
    "\n",
    "def solve_ilp(num_nodes, num_edges, edges):\n",
    "    mdl = cplex.Model()\n",
    "\n",
    "    picked_vertices = mdl.binary_var_list(num_nodes, name=\"picked_vertices\")\n",
    "\n",
    "    for idx, edge in enumerate(edges):\n",
    "        mdl.add_constraint(mdl.sum(picked_vertices[node-1] for node in edge) >= 1, \"Edge_\" + str(idx))\n",
    "\n",
    "    mdl.minimize(mdl.sum(picked_vertices))\n",
    "\n",
    "\n",
    "\n",
    "    # print parameters of model\n",
    "    print(mdl.parameters._params)\n",
    "    print(mdl.parameters.mip.tolerances.mipgap)\n",
    "    # mdl.parameters.mip.tolerances.mipgap = 0.2\n",
    "\n",
    "\n",
    "\n",
    "    solution = mdl.solve()\n",
    "    mdl.print_information()\n",
    "    print(mdl.solve_details)\n",
    "    print(f\"Solution size: {solution.objective_value}\")\n",
    "    # print(f\"Sol: {solution}\")\n",
    "\n",
    "HGRPATH = \"./testset/bremen_subgraph_300.hgr\"\n",
    "if __name__ == \"__main__\":\n",
    "\n",
    "    try:\n",
    "        num_nodes, num_edges, edges = read_hgr(HGRPATH)\n",
    "        print(f\"Graph has {num_nodes} nodes and {num_edges} edges\")\n",
    "        solve_ilp(num_nodes, num_edges, edges)\n",
    "    except Exception as e:\n",
    "        print(f\"Error reading file: {e}\")"
   ]
  }
 ],
 "metadata": {
  "kernelspec": {
   "display_name": "Python 3",
   "language": "python",
   "name": "python3"
  },
  "language_info": {
   "codemirror_mode": {
    "name": "ipython",
    "version": 3
   },
   "file_extension": ".py",
   "mimetype": "text/x-python",
   "name": "python",
   "nbconvert_exporter": "python",
   "pygments_lexer": "ipython3",
   "version": "3.11.0"
  }
 },
 "nbformat": 4,
 "nbformat_minor": 5
}
