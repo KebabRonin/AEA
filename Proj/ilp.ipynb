{
 "cells": [
  {
   "cell_type": "code",
   "execution_count": 12,
   "id": "5b71a93d",
   "metadata": {},
   "outputs": [
    {
     "name": "stdout",
     "output_type": "stream",
     "text": [
      "Note: you may need to restart the kernel to use updated packages.\n",
      "Looking in indexes: https://pypi.org/simple, https://pypi.ngc.nvidia.com\n",
      "Requirement already satisfied: cplex in c:\\users\\kebabwarrior\\appdata\\local\\programs\\python\\python311\\lib\\site-packages (22.1.2.0)\n"
     ]
    },
    {
     "name": "stderr",
     "output_type": "stream",
     "text": [
      "WARNING: Ignoring invalid distribution ~orch (c:\\Users\\KebabWarrior\\AppData\\Local\\Programs\\Python\\Python311\\Lib\\site-packages)\n",
      "WARNING: Ignoring invalid distribution ~orch (c:\\Users\\KebabWarrior\\AppData\\Local\\Programs\\Python\\Python311\\Lib\\site-packages)\n",
      "WARNING: Ignoring invalid distribution ~orch (c:\\Users\\KebabWarrior\\AppData\\Local\\Programs\\Python\\Python311\\Lib\\site-packages)\n"
     ]
    },
    {
     "name": "stdout",
     "output_type": "stream",
     "text": [
      "Looking in indexes: https://pypi.org/simple, https://pypi.ngc.nvidia.comNote: you may need to restart the kernel to use updated packages.\n",
      "\n",
      "Requirement already satisfied: docplex in c:\\users\\kebabwarrior\\appdata\\local\\programs\\python\\python311\\lib\\site-packages (2.29.241)\n",
      "Requirement already satisfied: six in c:\\users\\kebabwarrior\\appdata\\local\\programs\\python\\python311\\lib\\site-packages (from docplex) (1.16.0)\n"
     ]
    },
    {
     "name": "stderr",
     "output_type": "stream",
     "text": [
      "WARNING: Ignoring invalid distribution ~orch (c:\\Users\\KebabWarrior\\AppData\\Local\\Programs\\Python\\Python311\\Lib\\site-packages)\n",
      "WARNING: Ignoring invalid distribution ~orch (c:\\Users\\KebabWarrior\\AppData\\Local\\Programs\\Python\\Python311\\Lib\\site-packages)\n",
      "WARNING: Ignoring invalid distribution ~orch (c:\\Users\\KebabWarrior\\AppData\\Local\\Programs\\Python\\Python311\\Lib\\site-packages)\n"
     ]
    }
   ],
   "source": [
    "%pip install cplex\n",
    "%pip install docplex"
   ]
  },
  {
   "cell_type": "code",
   "execution_count": 13,
   "id": "87b18335",
   "metadata": {},
   "outputs": [],
   "source": [
    "from typing import Tuple, List\n",
    "import logging\n",
    "\n",
    "def read_hgr(file_path: str) -> Tuple[int, int, List[List[int]]]:\n",
    "    \"\"\"\n",
    "    Read a DIMACS-like .hgr file and return the number of nodes, edges, and the edge list.\n",
    "    Example format:\n",
    "        c I am a comment\n",
    "        p hs 6 5\n",
    "        1 2\n",
    "        2 3 4\n",
    "        2 4 5\n",
    "        1 3 6\n",
    "        5 6\n",
    "    \"\"\"\n",
    "    num_nodes = 0\n",
    "    num_edges = 0\n",
    "    edges = []\n",
    "\n",
    "    with open(file_path, 'r') as f:\n",
    "        for line in f:\n",
    "            line = line.strip()\n",
    "\n",
    "            # Skip comments and empty lines\n",
    "            if not line or line.startswith('c'):\n",
    "                continue\n",
    "\n",
    "            # Parse problem line\n",
    "            if line.startswith('p'):\n",
    "                parts = line.split()\n",
    "                if len(parts) != 4 or parts[1] != 'hs':\n",
    "                    raise ValueError(f\"Invalid problem line format: {line}\")\n",
    "                num_nodes = int(parts[2])\n",
    "                num_edges = int(parts[3])\n",
    "                continue\n",
    "\n",
    "            # Parse edge line\n",
    "            vertices = [int(v) for v in line.split()]\n",
    "            if not vertices:\n",
    "                continue\n",
    "\n",
    "            # Validate vertex numbers\n",
    "            if any(v < 1 or v > num_nodes for v in vertices):\n",
    "                raise ValueError(f\"Vertex number out of range in line: {line}\")\n",
    "\n",
    "            edges.append(vertices)\n",
    "\n",
    "    if not num_nodes or not num_edges:\n",
    "        raise ValueError(\"Problem line not found or invalid\")\n",
    "\n",
    "    if len(edges) != num_edges:\n",
    "        logging.warning(f\"Expected {num_edges} edges but found {len(edges)}\")\n",
    "\n",
    "    return num_nodes, num_edges, edges\n",
    "\n",
    "\n",
    "import docplex.mp.model as cplex\n",
    "import json\n",
    "\n",
    "def solve_ilp(num_nodes, num_edges, edges, param_dict={}, print_info=False):\n",
    "    mdl = cplex.Model()\n",
    "\n",
    "    picked_vertices = mdl.binary_var_list(num_nodes, name=\"picked_vertices\")\n",
    "\n",
    "    for idx, edge in enumerate(edges):\n",
    "        mdl.add_constraint(mdl.sum(picked_vertices[node-1] for node in edge) >= 1, \"Edge_\" + str(idx))\n",
    "\n",
    "    mdl.minimize(mdl.sum(picked_vertices))\n",
    "\n",
    "    \"\"\"Set parameters on the model using a dictionary.\"\"\"\n",
    "    for param_path, value in param_dict.items():\n",
    "        parts = param_path.split('.')\n",
    "        param = mdl.parameters\n",
    "        for part in parts:\n",
    "            param = getattr(param, part)\n",
    "        param.set(value)\n",
    "\n",
    "    solution = mdl.solve()\n",
    "    if print_info:\n",
    "        mdl.print_information()\n",
    "        print(mdl.parameters._params)\n",
    "        print(mdl.solve_details)\n",
    "        print(f\"Solution size: {solution.objective_value}\")\n",
    "        print(f\"Sol: {solution}\")\n",
    "        # print(vars(mdl.solve_details))\n",
    "        # print(dir(mdl.solve_details))\n",
    "    result = vars(mdl.solve_details)\n",
    "    result['config'] = param_dict\n",
    "    result['objective'] = solution.objective_value if solution else None\n",
    "\n",
    "    return result"
   ]
  },
  {
   "cell_type": "code",
   "execution_count": 14,
   "id": "08344e68",
   "metadata": {},
   "outputs": [
    {
     "name": "stdout",
     "output_type": "stream",
     "text": [
      "Graph has 32 nodes and 31 edges\n",
      "Model: docplex_model723\n",
      " - number of variables: 32\n",
      "   - binary=32, integer=0, continuous=0\n",
      " - number of constraints: 31\n",
      "   - linear=31\n",
      " - parameters: defaults\n",
      " - objective: minimize\n",
      " - problem type is: MILP\n",
      "[docplex.mp.params.IntParameter(parameters.advance,1), docplex.mp.params.IntParameter(parameters.clocktype,2), docplex.mp.params.NumParameter(parameters.dettimelimit,1e+75), docplex.mp.params.IntParameter(parameters.lpmethod,0), docplex.mp.params.IntParameter(parameters.optimalitytarget,0), docplex.mp.params.IntParameter(parameters.parallel,0), docplex.mp.params.BoolParameter(parameters.paramdisplay,1), docplex.mp.params.IntParameter(parameters.qpmethod,0), docplex.mp.params.IntParameter(parameters.randomseed,202009243), docplex.mp.params.BoolParameter(parameters.record,0), docplex.mp.params.IntParameter(parameters.solutiontype,0), docplex.mp.params.IntParameter(parameters.threads,0), docplex.mp.params.NumParameter(parameters.timelimit,1e+75), docplex.mp.params.StrParameter(parameters.workdir,.), docplex.mp.params.NumParameter(parameters.workmem,2048.0)]\n",
      "status  = integer optimal solution\n",
      "time    = 0.032 s.\n",
      "problem = MILP\n",
      "gap     = 0%\n",
      "\n",
      "Solution size: 9.0\n",
      "Sol: solution for: docplex_model723\n",
      "objective: 9\n",
      "status: OPTIMAL_SOLUTION(2)\n",
      "picked_vertices_3=1\n",
      "picked_vertices_8=1\n",
      "picked_vertices_12=1\n",
      "picked_vertices_13=1\n",
      "picked_vertices_14=1\n",
      "picked_vertices_23=1\n",
      "picked_vertices_26=1\n",
      "picked_vertices_28=1\n",
      "picked_vertices_29=1\n",
      "\n"
     ]
    },
    {
     "data": {
      "text/plain": [
       "{'_time': 0.0319999999992433,\n",
       " '_dettime': 0.579620361328125,\n",
       " '_solve_status_code': 101,\n",
       " '_solve_status': 'integer optimal solution',\n",
       " '_problem_type': 'MILP',\n",
       " '_ncolumns': 32,\n",
       " '_linear_nonzeros': 125,\n",
       " '_miprelgap': 0.0,\n",
       " '_best_bound': 9.0,\n",
       " '_n_iterations': 118,\n",
       " '_n_nodes_processed': 0,\n",
       " '_quality_metrics': {},\n",
       " 'config': {},\n",
       " 'objective': 9.0}"
      ]
     },
     "execution_count": 14,
     "metadata": {},
     "output_type": "execute_result"
    }
   ],
   "source": [
    "FOLDER = 20\n",
    "import os\n",
    "if not os.path.exists(f\"{FOLDER}\"):\n",
    "\tos.mkdir(f\"{FOLDER}\")\n",
    "num_nodes, num_edges, edges = read_hgr(f\"./testset/bremen_subgraph_{FOLDER}.hgr\")\n",
    "print(f\"Graph has {num_nodes} nodes and {num_edges} edges\")\n",
    "solve_ilp(num_nodes, num_edges, edges, print_info=True)"
   ]
  },
  {
   "cell_type": "code",
   "execution_count": 15,
   "id": "4c0b1296",
   "metadata": {},
   "outputs": [],
   "source": [
    "from tqdm.contrib.itertools import product\n",
    "import tqdm.notebook as tqdm\n",
    "# [docplex.mp.params.IntParameter(parameters.advance,1), docplex.mp.params.IntParameter(parameters.clocktype,2), docplex.mp.params.NumParameter(parameters.dettimelimit,1e+75), docplex.mp.params.IntParameter(parameters.lpmethod,0), docplex.mp.params.IntParameter(parameters.optimalitytarget,0), docplex.mp.params.IntParameter(parameters.parallel,0), docplex.mp.params.BoolParameter(parameters.paramdisplay,1), docplex.mp.params.IntParameter(parameters.qpmethod,0), docplex.mp.params.IntParameter(parameters.randomseed,202009243), docplex.mp.params.BoolParameter(parameters.record,0), docplex.mp.params.IntParameter(parameters.solutiontype,0), docplex.mp.params.IntParameter(parameters.threads,0), docplex.mp.params.NumParameter(parameters.timelimit,1e+75), docplex.mp.params.StrParameter(parameters.workdir,.), docplex.mp.params.NumParameter(parameters.workmem,2048.0)]\n",
    "\n",
    "import pandas as pd\n",
    "import numpy as np\n",
    "\n",
    "NR_RUNS = 30\n",
    "def gridsearch(param_values, runs_per_data = NR_RUNS):\n",
    "\trezults = []\n",
    "\tparam_names = list(param_values.keys())\n",
    "\tfor cfg in product(*param_values.values()):\n",
    "\t\t# Remove None values (-> defaults)\n",
    "\t\tcfg = {param_names[i]: v for i, v in enumerate(cfg) if v is not None}\n",
    "\t\truns = [solve_ilp(num_nodes, num_edges, edges, param_dict=cfg) for _ in tqdm.trange(runs_per_data, position=2, leave=False)]\n",
    "\t\trezults += runs\n",
    "\treturn rezults"
   ]
  },
  {
   "cell_type": "code",
   "execution_count": null,
   "id": "b100dfc5",
   "metadata": {},
   "outputs": [
    {
     "data": {
      "application/vnd.jupyter.widget-view+json": {
       "model_id": "17c45c37792941fd91855353b75188ef",
       "version_major": 2,
       "version_minor": 0
      },
      "text/plain": [
       "  0%|          | 0/12 [00:00<?, ?it/s]"
      ]
     },
     "metadata": {},
     "output_type": "display_data"
    },
    {
     "data": {
      "application/vnd.jupyter.widget-view+json": {
       "model_id": "31f67b3f289946619bd768e3a46e03b8",
       "version_major": 2,
       "version_minor": 0
      },
      "text/plain": [
       "  0%|          | 0/30 [00:00<?, ?it/s]"
      ]
     },
     "metadata": {},
     "output_type": "display_data"
    }
   ],
   "source": [
    "param_values_bnb = {\n",
    "\t\"threads\": [1],\n",
    "\t\"mip.strategy.search\": [1],  # b&b\n",
    "\t# \"lpmethod\": [1, 2],  # primal, dual\n",
    "    \"mip.cuts.cliques\": [-1],  # auto, moderate\n",
    "    \"mip.cuts.gomory\": [-1],  # off, moderate, aggressive\n",
    "    \"mip.cuts.mircut\": [-1],  # off, moderate, aggressive\n",
    "    \"mip.cuts.liftproj\": [-1],  # off, moderate, aggressive\n",
    "    \"mip.cuts.zerohalfcut\": [-1],  # off, moderate, aggressive\n",
    "    \"mip.cuts.covers\": [-1, 1, 2],  # off, moderate, aggressive, very aggressive\n",
    "    # \"emphasis.mip\": [0, 1, 2],  # balanced, feasibility, optimality\n",
    "    # \"mip.strategy.probe\": [0, 1, 2, 3],  # auto, limited, moderate, full\n",
    "    # \"mip.strategy.heuristiceffort\": [0.5, 1.0, 2.0],  # low, default, high\n",
    "    \"mip.strategy.variableselect\": [-1, 1, 2, 3],  # min inf, auto, max inf, pseudo-cost, strong\n",
    "}\n",
    "for folder in [200]:#[20, 50, 100, 150, 200, 250, 300]:\n",
    "\tnum_nodes, num_edges, edges = read_hgr(f\"./testset/bremen_subgraph_{folder}.hgr\")\n",
    "\trezults_bnb = gridsearch(param_values_bnb)\n",
    "\trezults_bnb = pd.DataFrame(rezults_bnb)\n",
    "\tdisplay(rezults_bnb)\n",
    "\trezults_bnb.to_json(f\"{folder}/rezults_bnbt1.json\", indent=2)"
   ]
  }
 ],
 "metadata": {
  "kernelspec": {
   "display_name": "Python 3",
   "language": "python",
   "name": "python3"
  },
  "language_info": {
   "codemirror_mode": {
    "name": "ipython",
    "version": 3
   },
   "file_extension": ".py",
   "mimetype": "text/x-python",
   "name": "python",
   "nbconvert_exporter": "python",
   "pygments_lexer": "ipython3",
   "version": "3.11.0"
  }
 },
 "nbformat": 4,
 "nbformat_minor": 5
}
